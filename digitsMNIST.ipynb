{
 "cells": [
  {
   "cell_type": "markdown",
   "metadata": {
    "colab_type": "text",
    "id": "Jd0wDn7vWjC-"
   },
   "source": [
    "# **MNIST Handwritten Digits Classification**\n",
    "A FFNN (Feed Forward Neural Network) and CNN (Convolutional Nerual Network) have been modeled"
   ]
  },
  {
   "cell_type": "markdown",
   "metadata": {
    "colab_type": "text",
    "id": "iQEobqIfZy0x"
   },
   "source": [
    "## Import required packages"
   ]
  },
  {
   "cell_type": "code",
   "execution_count": 1,
   "metadata": {
    "colab": {
     "base_uri": "https://localhost:8080/",
     "height": 51
    },
    "colab_type": "code",
    "id": "qdrpoBnCj1r5",
    "outputId": "80e79668-cb3c-4660-b6a6-1006ea3e1039"
   },
   "outputs": [
    {
     "name": "stderr",
     "output_type": "stream",
     "text": [
      "C:\\Users\\satya\\AppData\\Local\\Programs\\Python\\Python310\\lib\\site-packages\\scipy\\__init__.py:155: UserWarning: A NumPy version >=1.18.5 and <1.25.0 is required for this version of SciPy (detected version 1.26.0\n",
      "  warnings.warn(f\"A NumPy version >={np_minversion} and <{np_maxversion}\"\n"
     ]
    }
   ],
   "source": [
    "import numpy as np \n",
    "import torch \n",
    "from torchvision import datasets,transforms\n",
    "import matplotlib.pyplot as plt \n",
    "import seaborn as sns\n",
    "import torch.nn as nn\n",
    "import torch.nn.functional as F\n",
    "from torch.utils.data.sampler import SubsetRandomSampler"
   ]
  },
  {
   "cell_type": "code",
   "execution_count": null,
   "metadata": {},
   "outputs": [],
   "source": [
    "import torchvision.transforms as transforms"
   ]
  },
  {
   "cell_type": "markdown",
   "metadata": {
    "colab_type": "text",
    "id": "h51P0XuLZ29A"
   },
   "source": [
    "## Defining our Transforms"
   ]
  },
  {
   "cell_type": "code",
   "execution_count": null,
   "metadata": {
    "colab": {},
    "colab_type": "code",
    "id": "ZPjHdd8IlJZw"
   },
   "outputs": [],
   "source": [
    "transform=transforms.Compose([transforms.ToTensor()])"
   ]
  },
  {
   "cell_type": "markdown",
   "metadata": {
    "colab_type": "text",
    "id": "seH5ywhsZ7CL"
   },
   "source": [
    "## Gathering the train and test data\n"
   ]
  },
  {
   "cell_type": "code",
   "execution_count": null,
   "metadata": {
    "colab": {
     "base_uri": "https://localhost:8080/",
     "height": 386,
     "referenced_widgets": [
      "ab7309e2797343f29d779efe01046914",
      "c52ddc49794247a4ba16953ae296a172",
      "e50b4dd2b7b1493d8b40716651939bc2",
      "d9e10a1a98db4338931c72967db0d806",
      "b2ad8531d80d4d049c5dc6fee7420dc0",
      "30029164616943e29190578a18dee0cb",
      "9577e4eb6ab6466f9b76d3bdac9605fc",
      "5bb17c6dcd0e428ca787b758a0eff7c3",
      "aa82d23b733f4d6887bf77d625a8c9e2",
      "10891cff8668436388335c8a94abd4bb",
      "ce1aa022e43b4a72842f98ba739c6e45",
      "847bc4c94f9c4fdb81d42cfb6d2c30e2",
      "ad9c72eb00b649c9897bd22314b062a6",
      "2601fa239149486fb8a39554312b1c0a",
      "2e5cf88e9f8e44fe9fe7811b6ed3db3e",
      "642b1057167e467e93894de6c023cdc4",
      "0ab84dc2513943ccab58d09f4ceb9463",
      "20df32632996421e83f8f6e7673149fd",
      "0cb140d3944443faa04047d580e5182a",
      "cc1e83f2af594ed1b6849439082752de",
      "e79e2166e3c24fb7afe8809df7f08c8a",
      "db93e628b5f14172b6de93a165d3eeee",
      "776eae11aeeb45ae97ed29bcbbd411e4",
      "9075f30e24a94aca9fca83d1e79aae3d",
      "084e453a839341b29e7f4ac1b342412c",
      "db17936e8abc4570992dd33fe049ee8f",
      "beaf1a025cee455fb1fbc252bd16b0ca",
      "d624fbfd3a81454c82c2b8f830666f0b",
      "fd3d33b383e3435a8eca1e97bb7bd2dc",
      "24e0bdbf730749a89e1756c4c94b68db",
      "bf99d1e1beb841c490657e35d89a1513",
      "72d70d39b250480bbad25c5f852b0473"
     ]
    },
    "colab_type": "code",
    "id": "rkagJHmFpVNd",
    "outputId": "07850512-718a-4ad8-adb3-65d0945dd57d"
   },
   "outputs": [],
   "source": [
    "train_data=datasets.MNIST('data',train=True,download=True,transform=transform)\n",
    "test_data=datasets.MNIST('data',train=False,download=True,transform=transform)"
   ]
  },
  {
   "cell_type": "markdown",
   "metadata": {
    "colab_type": "text",
    "id": "UPffPjsoZ-Os"
   },
   "source": [
    "## Defining our Train, Valid and Test Dataloaders"
   ]
  },
  {
   "cell_type": "code",
   "execution_count": 6,
   "metadata": {
    "colab": {},
    "colab_type": "code",
    "id": "2b3RqpZ8Jq19"
   },
   "outputs": [],
   "source": [
    "valid_size=0.2\n",
    "\n",
    "# IMPORTANT \n",
    "batch_size=20\n",
    "\n",
    "num_workers=0\n",
    "\n",
    "train_length = len(train_data)\n",
    "\n",
    "# obtain training dataset indices that will be used for validation dataset\n",
    "indices = list(range(train_length))\n",
    "\n",
    "np.random.shuffle(indices)\n",
    "split = int(np.floor(valid_size * train_length))\n",
    "train_idx, valid_idx = indices[split:], indices[:split]\n",
    "\n",
    "# define samplers for obtaining training and validation batches\n",
    "train_sampler = SubsetRandomSampler(train_idx)\n",
    "valid_sampler = SubsetRandomSampler(valid_idx)\n",
    "\n",
    "# prepare data loaders for train, test and validation dataset\n",
    "train_loader = torch.utils.data.DataLoader(train_data, batch_size=batch_size,\n",
    "    sampler=train_sampler, num_workers=num_workers)\n",
    "valid_loader = torch.utils.data.DataLoader(train_data, batch_size=batch_size, \n",
    "    sampler=valid_sampler, num_workers=num_workers)\n",
    "test_loader = torch.utils.data.DataLoader(test_data, batch_size=batch_size, \n",
    "    num_workers=num_workers)"
   ]
  },
  {
   "cell_type": "code",
   "execution_count": 7,
   "metadata": {
    "colab": {
     "base_uri": "https://localhost:8080/",
     "height": 34
    },
    "colab_type": "code",
    "id": "SFrfD1rovarC",
    "outputId": "c35e1451-6558-45ea-ba01-746ad36a64e7"
   },
   "outputs": [
    {
     "data": {
      "text/plain": [
       "(48000, 12000)"
      ]
     },
     "execution_count": 7,
     "metadata": {},
     "output_type": "execute_result"
    }
   ],
   "source": [
    "# This is for debugging\n",
    "train_idx.__len__(),valid_idx.__len__()"
   ]
  },
  {
   "cell_type": "code",
   "execution_count": 8,
   "metadata": {
    "colab": {
     "base_uri": "https://localhost:8080/",
     "height": 34
    },
    "colab_type": "code",
    "id": "Ia4zhtOwaNF-",
    "outputId": "ee9bff35-07ac-4de7-e5e2-f6146381d1ed"
   },
   "outputs": [
    {
     "data": {
      "text/plain": [
       "(2400, 600, 500)"
      ]
     },
     "execution_count": 8,
     "metadata": {},
     "output_type": "execute_result"
    }
   ],
   "source": [
    "# Printing the length of our train, valid and test dataloaders\n",
    "# NOTE : Here batch size is 20\n",
    "len(train_loader),len(valid_loader),len(test_loader)"
   ]
  },
  {
   "cell_type": "code",
   "execution_count": 9,
   "metadata": {
    "colab": {
     "base_uri": "https://localhost:8080/",
     "height": 986
    },
    "colab_type": "code",
    "id": "MygM53E6aPDq",
    "outputId": "4127fc39-0dad-41d3-bac9-bff4a7d0ea12"
   },
   "outputs": [
    {
     "name": "stdout",
     "output_type": "stream",
     "text": [
      "tensor([[[[0., 0., 0.,  ..., 0., 0., 0.],\n",
      "          [0., 0., 0.,  ..., 0., 0., 0.],\n",
      "          [0., 0., 0.,  ..., 0., 0., 0.],\n",
      "          ...,\n",
      "          [0., 0., 0.,  ..., 0., 0., 0.],\n",
      "          [0., 0., 0.,  ..., 0., 0., 0.],\n",
      "          [0., 0., 0.,  ..., 0., 0., 0.]]],\n",
      "\n",
      "\n",
      "        [[[0., 0., 0.,  ..., 0., 0., 0.],\n",
      "          [0., 0., 0.,  ..., 0., 0., 0.],\n",
      "          [0., 0., 0.,  ..., 0., 0., 0.],\n",
      "          ...,\n",
      "          [0., 0., 0.,  ..., 0., 0., 0.],\n",
      "          [0., 0., 0.,  ..., 0., 0., 0.],\n",
      "          [0., 0., 0.,  ..., 0., 0., 0.]]],\n",
      "\n",
      "\n",
      "        [[[0., 0., 0.,  ..., 0., 0., 0.],\n",
      "          [0., 0., 0.,  ..., 0., 0., 0.],\n",
      "          [0., 0., 0.,  ..., 0., 0., 0.],\n",
      "          ...,\n",
      "          [0., 0., 0.,  ..., 0., 0., 0.],\n",
      "          [0., 0., 0.,  ..., 0., 0., 0.],\n",
      "          [0., 0., 0.,  ..., 0., 0., 0.]]],\n",
      "\n",
      "\n",
      "        ...,\n",
      "\n",
      "\n",
      "        [[[0., 0., 0.,  ..., 0., 0., 0.],\n",
      "          [0., 0., 0.,  ..., 0., 0., 0.],\n",
      "          [0., 0., 0.,  ..., 0., 0., 0.],\n",
      "          ...,\n",
      "          [0., 0., 0.,  ..., 0., 0., 0.],\n",
      "          [0., 0., 0.,  ..., 0., 0., 0.],\n",
      "          [0., 0., 0.,  ..., 0., 0., 0.]]],\n",
      "\n",
      "\n",
      "        [[[0., 0., 0.,  ..., 0., 0., 0.],\n",
      "          [0., 0., 0.,  ..., 0., 0., 0.],\n",
      "          [0., 0., 0.,  ..., 0., 0., 0.],\n",
      "          ...,\n",
      "          [0., 0., 0.,  ..., 0., 0., 0.],\n",
      "          [0., 0., 0.,  ..., 0., 0., 0.],\n",
      "          [0., 0., 0.,  ..., 0., 0., 0.]]],\n",
      "\n",
      "\n",
      "        [[[0., 0., 0.,  ..., 0., 0., 0.],\n",
      "          [0., 0., 0.,  ..., 0., 0., 0.],\n",
      "          [0., 0., 0.,  ..., 0., 0., 0.],\n",
      "          ...,\n",
      "          [0., 0., 0.,  ..., 0., 0., 0.],\n",
      "          [0., 0., 0.,  ..., 0., 0., 0.],\n",
      "          [0., 0., 0.,  ..., 0., 0., 0.]]]]) torch.Size([20, 1, 28, 28]) 20 torch.Size([1, 28, 28])\n",
      "\n",
      "tensor([8, 9, 3, 0, 1, 8, 5, 7, 3, 5, 3, 6, 9, 6, 1, 0, 3, 8, 4, 7]) torch.Size([20]) 20\n"
     ]
    }
   ],
   "source": [
    "\n",
    "# checking our data\n",
    "images,labels=next(iter(train_loader))\n",
    "\n",
    "print(images, images.shape, len(images), images[0].shape)\n",
    "print()\n",
    "print(labels,labels.shape,len(labels))"
   ]
  },
  {
   "cell_type": "markdown",
   "metadata": {
    "colab_type": "text",
    "id": "3bJU78-BaDfm"
   },
   "source": [
    "## Visualizing a Training batch"
   ]
  },
  {
   "cell_type": "code",
   "execution_count": 10,
   "metadata": {
    "colab": {
     "base_uri": "https://localhost:8080/",
     "height": 469
    },
    "colab_type": "code",
    "id": "eMhKVPKTaWTz",
    "outputId": "c6b14b07-510d-49f7-8733-d01e9fd72127"
   },
   "outputs": [
    {
     "data": {
      "image/png": "[encoded data removed]",
      "text/plain": [
       "<Figure size 3000x1000 with 20 Axes>"
      ]
     },
     "metadata": {},
     "output_type": "display_data"
    }
   ],
   "source": [
    "# Displaying images and labels of a batch\n",
    "fig=plt.figure(figsize=(30,10))\n",
    "for i in range(len(labels)):\n",
    "    ax=fig.add_subplot(2,10,i+1,xticks=[],yticks=[])\n",
    "    plt.imshow(np.squeeze(images[i]))\n",
    "    ax.set_title(labels[i].item(),color='blue')"
   ]
  },
  {
   "cell_type": "markdown",
   "metadata": {
    "colab_type": "text",
    "id": "bei4lsIdaF8p"
   },
   "source": [
    "## Defining our Neural Net Architecture"
   ]
  },
  {
   "cell_type": "code",
   "execution_count": 11,
   "metadata": {
    "colab": {},
    "colab_type": "code",
    "id": "3UER4pRlaXpX"
   },
   "outputs": [],
   "source": [
    "\n",
    "# Model 1 : This model has dropout set to a certain value\n",
    "# NOTE : When we want to use dropout we ensure we run train() method on our model --- during training , if not required we should use eval() method --- validation and testing\n",
    "class FNet(nn.Module):\n",
    "    def __init__(self):\n",
    "        super(FNet,self).__init__()\n",
    "        self.fc1=nn.Linear(784,512)\n",
    "        self.fc2=nn.Linear(512,256)\n",
    "        self.out=nn.Linear(256,10)\n",
    "        \n",
    "        # Dropout probability - set for avoiding overfitting\n",
    "        self.dropout=nn.Dropout(0.2)\n",
    "\n",
    "    def forward(self,x):\n",
    "        x = x.view(-1, 28 * 28)        \n",
    "        x=self.dropout(F.relu(self.fc1(x)))\n",
    "        x=self.dropout(F.relu(self.fc2(x)))\n",
    "        x=self.out(x)\n",
    "        return x\n",
    "\n",
    "class convNet(nn.Module):\n",
    "  def __init__(self):\n",
    "    super(convNet,self).__init__()\n",
    "    self.conv1=nn.Conv2d(in_channels=1,out_channels=16,kernel_size=3,padding=1,stride=1)\n",
    "    self.conv2=nn.Conv2d(in_channels=16,out_channels=32,kernel_size=3,padding=1,stride=1)\n",
    "    self.pool=nn.MaxPool2d(kernel_size=2,stride=2)\n",
    "\n",
    "\n",
    "    self.fc1=nn.Linear(7*7*32,512)\n",
    "    self.fc2=nn.Linear(512,256)\n",
    "    self.out=nn.Linear(256,10)\n",
    "    self.dropout=nn.Dropout(0.2)\n",
    "\n",
    "  def forward(self,x):\n",
    "    x=self.pool(F.relu(self.conv1(x)))\n",
    "    x=self.pool(F.relu(self.conv2(x)))\n",
    "    x=x.view(-1,7*7*32)\n",
    "    x = self.dropout(x)\n",
    "    x=self.dropout(F.relu(self.fc1(x)))\n",
    "    x=self.dropout(F.relu(self.fc2(x)))\n",
    "    x=self.out(x)\n",
    "    return x\n",
    "    "
   ]
  },
  {
   "cell_type": "code",
   "execution_count": 12,
   "metadata": {
    "colab": {
     "base_uri": "https://localhost:8080/",
     "height": 391
    },
    "colab_type": "code",
    "id": "ZraXzPRya1X_",
    "outputId": "e13adace-5f25-4acc-b5a3-20627724074e"
   },
   "outputs": [
    {
     "name": "stdout",
     "output_type": "stream",
     "text": [
      "FNet(\n",
      "  (fc1): Linear(in_features=784, out_features=512, bias=True)\n",
      "  (fc2): Linear(in_features=512, out_features=256, bias=True)\n",
      "  (out): Linear(in_features=256, out_features=10, bias=True)\n",
      "  (dropout): Dropout(p=0.2, inplace=False)\n",
      ") \n",
      "\n",
      "\n",
      "\n",
      " convNet(\n",
      "  (conv1): Conv2d(1, 16, kernel_size=(3, 3), stride=(1, 1), padding=(1, 1))\n",
      "  (conv2): Conv2d(16, 32, kernel_size=(3, 3), stride=(1, 1), padding=(1, 1))\n",
      "  (pool): MaxPool2d(kernel_size=2, stride=2, padding=0, dilation=1, ceil_mode=False)\n",
      "  (fc1): Linear(in_features=1568, out_features=512, bias=True)\n",
      "  (fc2): Linear(in_features=512, out_features=256, bias=True)\n",
      "  (out): Linear(in_features=256, out_features=10, bias=True)\n",
      "  (dropout): Dropout(p=0.2, inplace=False)\n",
      ") \n",
      "\n",
      "\n",
      "\n",
      " On GPU :  False\n"
     ]
    }
   ],
   "source": [
    "model_1=FNet()\n",
    "model_2=convNet()\n",
    "\n",
    "def weight_init_normal(m):\n",
    "    classname=m.__class__.__name__\n",
    "    if classname.find('Linear')!=-1:\n",
    "        n = m.in_features\n",
    "        y = (1.0/np.sqrt(n))\n",
    "        m.weight.data.normal_(0, y)\n",
    "        m.bias.data.fill_(0)\n",
    "model_1.apply(weight_init_normal),model_2.apply(weight_init_normal)\n",
    "use_cuda=True\n",
    "if use_cuda and torch.cuda.is_available():\n",
    "  model_1.cuda()\n",
    "  model_2.cuda()\n",
    "\n",
    "\n",
    "print(model_1,'\\n\\n\\n\\n',model_2,'\\n\\n\\n\\n','On GPU : ',torch.cuda.is_available())"
   ]
  },
  {
   "cell_type": "markdown",
   "metadata": {
    "colab_type": "text",
    "id": "W6fHiVR0aKEL"
   },
   "source": [
    "## Defining our Loss Function"
   ]
  },
  {
   "cell_type": "code",
   "execution_count": 13,
   "metadata": {
    "colab": {},
    "colab_type": "code",
    "id": "0l5LIkQmaa6t"
   },
   "outputs": [],
   "source": [
    "# Loss Function\n",
    "# If we did not compute softmax at output use nn.CrossentropyLoss() else use nn.NLLLoss()\n",
    "criterion=nn.CrossEntropyLoss()\n"
   ]
  },
  {
   "cell_type": "markdown",
   "metadata": {
    "colab_type": "text",
    "id": "z4VHb9kUaPC5"
   },
   "source": [
    "## Training and Validation Phase"
   ]
  },
  {
   "cell_type": "code",
   "execution_count": 14,
   "metadata": {
    "colab": {},
    "colab_type": "code",
    "id": "rGTVhhVaacsi"
   },
   "outputs": [],
   "source": [
    "def trainNet(model,lr):\n",
    "    optimizer=torch.optim.Adam(model.parameters(),lr=lr)\n",
    "\n",
    "\n",
    "    # Number of epochs to train for\n",
    "    loss_keeper={'train':[],'valid':[]}\n",
    "    epochs=20\n",
    "\n",
    "    # minimum validation loss ----- set initial minimum to infinity\n",
    "    valid_loss_min = np.Inf \n",
    "\n",
    "    for epoch in range(epochs):\n",
    "        train_loss=0.0\n",
    "        valid_loss=0.0\n",
    "\n",
    "        \"\"\"\n",
    "        TRAINING PHASE\n",
    "        \"\"\"\n",
    "        model.train() # TURN ON DROPOUT for training\n",
    "        for images,labels in train_loader:\n",
    "            if use_cuda and torch.cuda.is_available():\n",
    "                images,labels=images.cuda(),labels.cuda()\n",
    "            optimizer.zero_grad()\n",
    "            output=model(images)\n",
    "            loss=criterion(output,labels)\n",
    "            loss.backward()\n",
    "            optimizer.step()\n",
    "            train_loss+=loss.item()\n",
    "\n",
    "        \"\"\"\n",
    "        VALIDATION PHASE\n",
    "        \"\"\"\n",
    "        model.eval() # TURN OFF DROPOUT for validation\n",
    "        for images,labels in valid_loader:\n",
    "            if use_cuda and torch.cuda.is_available():\n",
    "                images,labels=images.cuda(),labels.cuda()\n",
    "            output=model(images)\n",
    "            loss=criterion(output,labels)\n",
    "            valid_loss+=loss.item()\n",
    "\n",
    "        # Calculating loss over entire batch size for every epoch\n",
    "        train_loss = train_loss/len(train_loader)\n",
    "        valid_loss = valid_loss/len(valid_loader)\n",
    "\n",
    "\n",
    "        # saving loss values\n",
    "        loss_keeper['train'].append(train_loss)\n",
    "        loss_keeper['valid'].append(valid_loss)\n",
    "\n",
    "        print(f\"\\nEpoch : {epoch+1}\\tTraining Loss : {train_loss}\\tValidation Loss : {valid_loss}\")\n",
    "        if valid_loss<=valid_loss_min:\n",
    "            print(f\"Validation loss decreased from : {valid_loss_min} ----> {valid_loss} ----> Saving Model.......\")\n",
    "            z=type(model).__name__\n",
    "            torch.save(model.state_dict(), z+'_model.pth')\n",
    "            valid_loss_min=valid_loss\n",
    "    return(loss_keeper)"
   ]
  },
  {
   "cell_type": "code",
   "execution_count": null,
   "metadata": {
    "colab": {
     "base_uri": "https://localhost:8080/",
     "height": 765
    },
    "colab_type": "code",
    "id": "5tyKfCORo-kn",
    "outputId": "81679316-e1ab-443a-be4d-3b10fa3ac16d"
   },
   "outputs": [
    {
     "name": "stdout",
     "output_type": "stream",
     "text": [
      "\n",
      "Epoch : 1\tTraining Loss : 0.23914088901598007\tValidation Loss : 0.14058637941159152\n",
      "Validation loss decreased from : inf ----> 0.14058637941159152 ----> Saving Model.......\n",
      "\n",
      "Epoch : 2\tTraining Loss : 0.11643780427448898\tValidation Loss : 0.11923217946789616\n",
      "Validation loss decreased from : 0.14058637941159152 ----> 0.11923217946789616 ----> Saving Model.......\n",
      "\n",
      "Epoch : 3\tTraining Loss : 0.08771795704959308\tValidation Loss : 0.10624778831954851\n",
      "Validation loss decreased from : 0.11923217946789616 ----> 0.10624778831954851 ----> Saving Model.......\n",
      "\n",
      "Epoch : 4\tTraining Loss : 0.07336915357561641\tValidation Loss : 0.0997469085371146\n",
      "Validation loss decreased from : 0.10624778831954851 ----> 0.0997469085371146 ----> Saving Model.......\n",
      "\n",
      "Epoch : 5\tTraining Loss : 0.06220658673136048\tValidation Loss : 0.1220576847897731\n",
      "\n",
      "Epoch : 6\tTraining Loss : 0.05653916235551852\tValidation Loss : 0.0957679577239234\n",
      "Validation loss decreased from : 0.0997469085371146 ----> 0.0957679577239234 ----> Saving Model.......\n",
      "\n",
      "Epoch : 7\tTraining Loss : 0.050217459915568176\tValidation Loss : 0.1056100508051251\n",
      "\n",
      "Epoch : 8\tTraining Loss : 0.048121417389288206\tValidation Loss : 0.10880789559995302\n",
      "\n",
      "Epoch : 9\tTraining Loss : 0.04295390800115402\tValidation Loss : 0.10723532818088176\n",
      "\n",
      "Epoch : 10\tTraining Loss : 0.04165564668383658\tValidation Loss : 0.10287131047819993\n",
      "\n",
      "Epoch : 11\tTraining Loss : 0.040723716303389834\tValidation Loss : 0.1116207155743965\n",
      "\n",
      "Epoch : 12\tTraining Loss : 0.03627897272565504\tValidation Loss : 0.1328215065293575\n",
      "\n",
      "Epoch : 13\tTraining Loss : 0.03686708889433654\tValidation Loss : 0.14180391798691844\n",
      "\n",
      "Epoch : 14\tTraining Loss : 0.034504291574247246\tValidation Loss : 0.11176865524201832\n",
      "\n",
      "Epoch : 15\tTraining Loss : 0.03223856342031115\tValidation Loss : 0.11804305169558033\n",
      "\n",
      "Epoch : 16\tTraining Loss : 0.034689938200284785\tValidation Loss : 0.13263713735678026\n",
      "\n",
      "Epoch : 17\tTraining Loss : 0.03320102301697397\tValidation Loss : 0.14563671732593123\n",
      "\n",
      "Epoch : 18\tTraining Loss : 0.02721622249026962\tValidation Loss : 0.13883013775092043\n"
     ]
    }
   ],
   "source": [
    "m1_loss=trainNet(model_1,0.001)"
   ]
  },
  {
   "cell_type": "code",
   "execution_count": null,
   "metadata": {
    "colab": {
     "base_uri": "https://localhost:8080/",
     "height": 697
    },
    "colab_type": "code",
    "id": "vNmdga7j89n7",
    "outputId": "70c002b5-afc0-4e3c-ed09-2ed3f869250e"
   },
   "outputs": [],
   "source": [
    "m1_loss"
   ]
  },
  {
   "cell_type": "code",
   "execution_count": null,
   "metadata": {
    "colab": {
     "base_uri": "https://localhost:8080/",
     "height": 765
    },
    "colab_type": "code",
    "id": "-X4CD_DoxZHH",
    "outputId": "7ab8dde7-1612-4d5c-de57-06d42f5186a4"
   },
   "outputs": [],
   "source": [
    "m2_loss=trainNet(model_2,0.001)"
   ]
  },
  {
   "cell_type": "code",
   "execution_count": null,
   "metadata": {
    "colab": {
     "base_uri": "https://localhost:8080/",
     "height": 697
    },
    "colab_type": "code",
    "id": "XAen2eRc8998",
    "outputId": "b64c7096-6f69-46ed-9d2a-9b8a3d0fb8f8"
   },
   "outputs": [],
   "source": [
    "m2_loss"
   ]
  },
  {
   "cell_type": "markdown",
   "metadata": {
    "colab_type": "text",
    "id": "IE0r8VDjaSwh"
   },
   "source": [
    "## Loading model from Lowest Validation Loss"
   ]
  },
  {
   "cell_type": "code",
   "execution_count": 17,
   "metadata": {
    "colab": {
     "base_uri": "https://localhost:8080/",
     "height": 34
    },
    "colab_type": "code",
    "id": "lsM_EUkk2xt3",
    "outputId": "d4b4ca4c-4348-4848-975e-2c130c41f3d5"
   },
   "outputs": [
    {
     "data": {
      "text/plain": [
       "<All keys matched successfully>"
      ]
     },
     "execution_count": 17,
     "metadata": {
      "tags": []
     },
     "output_type": "execute_result"
    }
   ],
   "source": [
    "# Loading the model from the lowest validation loss \n",
    "model_1.load_state_dict(torch.load('FNet_model.pth'))\n",
    "model_2.load_state_dict(torch.load('convNet_model.pth'))\n"
   ]
  },
  {
   "cell_type": "code",
   "execution_count": 18,
   "metadata": {
    "colab": {
     "base_uri": "https://localhost:8080/",
     "height": 323
    },
    "colab_type": "code",
    "id": "1T5HFEp4-DTo",
    "outputId": "d659c894-374f-4307-89d9-cd19caa0f922"
   },
   "outputs": [
    {
     "name": "stdout",
     "output_type": "stream",
     "text": [
      "<bound method Module.state_dict of FNet(\n",
      "  (fc1): Linear(in_features=784, out_features=512, bias=True)\n",
      "  (fc2): Linear(in_features=512, out_features=256, bias=True)\n",
      "  (out): Linear(in_features=256, out_features=10, bias=True)\n",
      "  (dropout): Dropout(p=0.2, inplace=False)\n",
      ")> \n",
      "\n",
      "\n",
      "\n",
      " <bound method Module.state_dict of convNet(\n",
      "  (conv1): Conv2d(1, 16, kernel_size=(3, 3), stride=(1, 1), padding=(1, 1))\n",
      "  (conv2): Conv2d(16, 32, kernel_size=(3, 3), stride=(1, 1), padding=(1, 1))\n",
      "  (pool): MaxPool2d(kernel_size=2, stride=2, padding=0, dilation=1, ceil_mode=False)\n",
      "  (fc1): Linear(in_features=1568, out_features=512, bias=True)\n",
      "  (fc2): Linear(in_features=512, out_features=256, bias=True)\n",
      "  (out): Linear(in_features=256, out_features=10, bias=True)\n",
      "  (dropout): Dropout(p=0.2, inplace=False)\n",
      ")>\n"
     ]
    }
   ],
   "source": [
    "print(model_1.state_dict,'\\n\\n\\n\\n',model_2.state_dict)"
   ]
  },
  {
   "cell_type": "code",
   "execution_count": null,
   "metadata": {},
   "outputs": [],
   "source": [
    "import matplotlib.pyplot as plt\n",
    "\n",
    "# Sample data for model losses and accuracies\n",
    "m1_loss = {'train': [0.5, 0.4, 0.3], 'valid': [0.6, 0.5, 0.4]}\n",
    "m1_accuracy = {'train': [0.75, 0.80, 0.85], 'valid': [0.70, 0.75, 0.80]}\n",
    "m2_loss = {'train': [0.4, 0.3, 0.2], 'valid': [0.5, 0.4, 0.3]}\n",
    "m2_accuracy = {'train': [0.80, 0.85, 0.90], 'valid': [0.75, 0.80, 0.85]}\n",
    "\n",
    "title = ['FFNN', 'CNN']\n",
    "model_data = [{'loss': m1_loss, 'accuracy': m1_accuracy}, {'loss': m2_loss, 'accuracy': m2_accuracy}]\n",
    "fig = plt.figure(1, figsize=(15, 5))\n",
    "\n",
    "for idx, model in enumerate(model_data, start=1):\n",
    "    loss_data = model['loss']\n",
    "    accuracy_data = model['accuracy']\n",
    "    ax_loss = fig.add_subplot(1, 2, idx)\n",
    "    ax_loss.plot(loss_data['train'], label=\"Training Loss\")\n",
    "    ax_loss.plot(loss_data['valid'], label=\"Validation Loss\")\n",
    "    ax_loss.set_title('MNIST-Digits: ' + title[idx - 1] + ' - Loss')\n",
    "    ax_loss.set_xlabel('Epoch')\n",
    "    ax_loss.set_ylabel('Loss')\n",
    "    ax_loss.legend()\n",
    "\n",
    "    fig_accuracy = plt.figure(figsize=(15, 5))\n",
    "    ax_accuracy = fig_accuracy.add_subplot(1, 2, idx)\n",
    "    ax_accuracy.plot(accuracy_data['train'], label=\"Training Accuracy\")\n",
    "    ax_accuracy.plot(accuracy_data['valid'], label=\"Validation Accuracy\")\n",
    "    ax_accuracy.set_title('MNIST-Digits: ' + title[idx - 1] + ' - Accuracy')\n",
    "    ax_accuracy.set_xlabel('Epoch')\n",
    "    ax_accuracy.set_ylabel('Accuracy')\n",
    "    ax_accuracy.legend()\n",
    "\n",
    "plt.show()\n"
   ]
  },
  {
   "cell_type": "markdown",
   "metadata": {
    "colab_type": "text",
    "id": "581oexFxaWjE"
   },
   "source": [
    "## Plotting Training and Validation Losses"
   ]
  },
  {
   "cell_type": "code",
   "execution_count": 19,
   "metadata": {
    "colab": {
     "base_uri": "https://localhost:8080/",
     "height": 336
    },
    "colab_type": "code",
    "id": "shy0MlY_a-mr",
    "outputId": "162936f4-27f6-4bfa-84b6-f7321a49d3f6"
   },
   "outputs": [
    {
     "data": {
      "image/png": "[encoded data removed]",
      "text/plain": [
       "<Figure size 720x360 with 2 Axes>"
      ]
     },
     "metadata": {
      "needs_background": "light",
      "tags": []
     },
     "output_type": "display_data"
    }
   ],
   "source": [
    "title=['FFNN','CNN']\n",
    "model_losses=[m1_loss,m2_loss]\n",
    "fig=plt.figure(1,figsize=(10,5))\n",
    "idx=1\n",
    "for i in model_losses:\n",
    "  ax=fig.add_subplot(1,2,idx)\n",
    "  ax.plot(i['train'],label=\"Training Loss\")\n",
    "  ax.plot(i['valid'],label=\"Validation Loss\")\n",
    "  ax.set_title('MNIST-Digits : '+title[idx-1])\n",
    "  idx+=1\n",
    "  plt.legend();"
   ]
  },
  {
   "cell_type": "markdown",
   "metadata": {
    "colab_type": "text",
    "id": "hxKM2mHCaZsF"
   },
   "source": [
    "## Testing Phase"
   ]
  },
  {
   "cell_type": "code",
   "execution_count": 20,
   "metadata": {
    "colab": {},
    "colab_type": "code",
    "id": "jbvikEyPisP9"
   },
   "outputs": [],
   "source": [
    "def test(model):\n",
    "    correct=0\n",
    "    test_loss=0\n",
    "    class_correct = list(0. for i in range(10))\n",
    "    class_total = list(0. for i in range(10))\n",
    "\n",
    "    model.eval() # test the model with dropout layers off\n",
    "    for images,labels in test_loader:\n",
    "        if use_cuda and torch.cuda.is_available():\n",
    "            images,labels=images.cuda(),labels.cuda()\n",
    "        output=model(images)\n",
    "        loss=criterion(output,labels)\n",
    "        test_loss+=loss.item()\n",
    "        _,pred=torch.max(output,1)\n",
    "        correct = np.squeeze(pred.eq(labels.data.view_as(pred)))\n",
    "\n",
    "        for i in range(batch_size):\n",
    "            label = labels.data[i]\n",
    "            class_correct[label] += correct[i].item()\n",
    "            class_total[label] += 1\n",
    "\n",
    "\n",
    "    test_loss=test_loss/len(test_loader)\n",
    "    print(f'For {type(model).__name__} :')\n",
    "    print(f\"Test Loss: {test_loss}\")\n",
    "    print(f\"Correctly predicted per class : {class_correct}, Total correctly perdicted : {sum(class_correct)}\")\n",
    "    print(f\"Total Predictions per class : {class_total}, Total predictions to be made : {sum(class_total)}\\n\")\n",
    "    for i in range(10):\n",
    "      if class_total[i] > 0:\n",
    "          print(f\"Test Accuracy of class {i} : {float(100 * class_correct[i] / class_total[i])}% where {int(np.sum(class_correct[i]))} of {int(np.sum(class_total[i]))} were predicted correctly\")\n",
    "      else:\n",
    "          print('Test Accuracy of %5s: N/A (no training examples)' % (classes[i]))\n",
    "\n",
    "    print(f\"\\nOverall Test Accuracy : {float(100. * np.sum(class_correct) / np.sum(class_total))}% where {int(np.sum(class_correct))} of {int(np.sum(class_total))} were predicted correctly\")\n",
    "    # obtain one batch of test images\n",
    "    dataiter = iter(test_loader)\n",
    "    images, labels = dataiter.next()\n",
    "\n",
    "    # get sample outputs\n",
    "    if use_cuda and torch.cuda.is_available():\n",
    "      images,labels=images.cuda(),labels.cuda()\n",
    "    output = model(images)\n",
    "    # convert output probabilities to predicted class\n",
    "    _, preds = torch.max(output, 1)\n",
    "    # prep images for display\n",
    "    images = images.cpu().numpy()\n",
    "\n",
    "    # plot the images in the batch, along with predicted and true labels\n",
    "    fig = plt.figure(figsize=(25, 4))\n",
    "    for idx in np.arange(20):\n",
    "        ax = fig.add_subplot(2, 20/2, idx+1, xticks=[], yticks=[])\n",
    "        ax.imshow(np.squeeze(images[idx]))\n",
    "        ax.set_title(\"{} for ({})\".format(str(preds[idx].item()), str(labels[idx].item())),\n",
    "                    color=(\"blue\" if preds[idx]==labels[idx] else \"red\"))"
   ]
  },
  {
   "cell_type": "markdown",
   "metadata": {
    "colab_type": "text",
    "id": "CrIpELozacak"
   },
   "source": [
    "## Visualizing a Test batch with results"
   ]
  },
  {
   "cell_type": "markdown",
   "metadata": {
    "colab_type": "text",
    "id": "0iEve7adafei"
   },
   "source": [
    "FFNN"
   ]
  },
  {
   "cell_type": "code",
   "execution_count": 21,
   "metadata": {
    "colab": {
     "base_uri": "https://localhost:8080/",
     "height": 557
    },
    "colab_type": "code",
    "id": "26sGXUIu-sbd",
    "outputId": "10c964ea-6001-4881-c983-63e1eab6e1e2"
   },
   "outputs": [
    {
     "name": "stdout",
     "output_type": "stream",
     "text": [
      "For FNet :\n",
      "Test Loss: 0.07923624516067411\n",
      "Correctly predicted per class : [972.0, 1123.0, 1005.0, 987.0, 962.0, 863.0, 929.0, 1009.0, 951.0, 980.0], Total correctly perdicted : 9781.0\n",
      "Total Predictions per class : [980.0, 1135.0, 1032.0, 1010.0, 982.0, 892.0, 958.0, 1028.0, 974.0, 1009.0], Total predictions to be made : 10000.0\n",
      "\n",
      "Test Accuracy of class 0 : 99.18367346938776% where 972 of 980 were predicted correctly\n",
      "Test Accuracy of class 1 : 98.94273127753304% where 1123 of 1135 were predicted correctly\n",
      "Test Accuracy of class 2 : 97.38372093023256% where 1005 of 1032 were predicted correctly\n",
      "Test Accuracy of class 3 : 97.72277227722772% where 987 of 1010 were predicted correctly\n",
      "Test Accuracy of class 4 : 97.9633401221996% where 962 of 982 were predicted correctly\n",
      "Test Accuracy of class 5 : 96.74887892376681% where 863 of 892 were predicted correctly\n",
      "Test Accuracy of class 6 : 96.97286012526096% where 929 of 958 were predicted correctly\n",
      "Test Accuracy of class 7 : 98.15175097276264% where 1009 of 1028 were predicted correctly\n",
      "Test Accuracy of class 8 : 97.63860369609856% where 951 of 974 were predicted correctly\n",
      "Test Accuracy of class 9 : 97.12586719524282% where 980 of 1009 were predicted correctly\n",
      "\n",
      "Overall Test Accuracy : 97.81% where 9781 of 10000 were predicted correctly\n"
     ]
    },
    {
     "data": {
      "image/png": "[encoded data removed]",
      "text/plain": [
       "<Figure size 1800x288 with 20 Axes>"
      ]
     },
     "metadata": {
      "tags": []
     },
     "output_type": "display_data"
    }
   ],
   "source": [
    "test(model_1)"
   ]
  },
  {
   "cell_type": "markdown",
   "metadata": {
    "colab_type": "text",
    "id": "OAsdDrz2ah5F"
   },
   "source": [
    "### CNN"
   ]
  },
  {
   "cell_type": "code",
   "execution_count": 22,
   "metadata": {
    "colab": {
     "base_uri": "https://localhost:8080/",
     "height": 557
    },
    "colab_type": "code",
    "id": "8oXKw8d96CfJ",
    "outputId": "0451d9ea-ba3b-4d10-da49-4eabdb7e832e"
   },
   "outputs": [
    {
     "name": "stdout",
     "output_type": "stream",
     "text": [
      "For convNet :\n",
      "Test Loss: 0.026931680879527447\n",
      "Correctly predicted per class : [978.0, 1131.0, 1020.0, 1007.0, 980.0, 879.0, 947.0, 1019.0, 966.0, 984.0], Total correctly perdicted : 9911.0\n",
      "Total Predictions per class : [980.0, 1135.0, 1032.0, 1010.0, 982.0, 892.0, 958.0, 1028.0, 974.0, 1009.0], Total predictions to be made : 10000.0\n",
      "\n",
      "Test Accuracy of class 0 : 99.79591836734694% where 978 of 980 were predicted correctly\n",
      "Test Accuracy of class 1 : 99.64757709251101% where 1131 of 1135 were predicted correctly\n",
      "Test Accuracy of class 2 : 98.83720930232558% where 1020 of 1032 were predicted correctly\n",
      "Test Accuracy of class 3 : 99.70297029702971% where 1007 of 1010 were predicted correctly\n",
      "Test Accuracy of class 4 : 99.79633401221996% where 980 of 982 were predicted correctly\n",
      "Test Accuracy of class 5 : 98.54260089686099% where 879 of 892 were predicted correctly\n",
      "Test Accuracy of class 6 : 98.8517745302714% where 947 of 958 were predicted correctly\n",
      "Test Accuracy of class 7 : 99.12451361867704% where 1019 of 1028 were predicted correctly\n",
      "Test Accuracy of class 8 : 99.17864476386038% where 966 of 974 were predicted correctly\n",
      "Test Accuracy of class 9 : 97.52229930624381% where 984 of 1009 were predicted correctly\n",
      "\n",
      "Overall Test Accuracy : 99.11% where 9911 of 10000 were predicted correctly\n"
     ]
    },
    {
     "data": {
      "image/png": "[encoded data removed]",
      "text/plain": [
       "<Figure size 1800x288 with 20 Axes>"
      ]
     },
     "metadata": {
      "tags": []
     },
     "output_type": "display_data"
    }
   ],
   "source": [
    "test(model_2)"
   ]
  },
  {
   "cell_type": "code",
   "execution_count": 11,
   "metadata": {},
   "outputs": [],
   "source": [
    "import torch\n",
    "import torchvision\n",
    "import torchvision.transforms as transforms\n",
    "import torch.nn as nn\n",
    "import torch.nn.functional as F\n",
    "import torch.optim as optim\n",
    "import matplotlib.pyplot as plt\n",
    "import numpy as np\n",
    "from sklearn.metrics import confusion_matrix\n",
    "import seaborn as sns"
   ]
  },
  {
   "cell_type": "code",
   "execution_count": 12,
   "metadata": {},
   "outputs": [],
   "source": [
    "def load_data():\n",
    "    transform = transforms.Compose([\n",
    "        transforms.ToTensor(),\n",
    "        transforms.Normalize((0.5,), (0.5,))\n",
    "    ])\n",
    "\n",
    "    trainset = torchvision.datasets.MNIST(root='./data', train=True, download=True, transform=transform)\n",
    "    trainloader = torch.utils.data.DataLoader(trainset, batch_size=64, shuffle=True)\n",
    "\n",
    "    testset = torchvision.datasets.MNIST(root='./data', train=False, download=True, transform=transform)\n",
    "    testloader = torch.utils.data.DataLoader(testset, batch_size=64, shuffle=False)\n",
    "\n",
    "    return trainloader, testloader"
   ]
  },
  {
   "cell_type": "code",
   "execution_count": 13,
   "metadata": {},
   "outputs": [],
   "source": [
    "# Step 2: Define the CNN model\n",
    "class CNN(nn.Module):\n",
    "    def __init__(self):\n",
    "        super(CNN, self).__init__()\n",
    "        self.conv1 = nn.Conv2d(1, 32, 3, 1)\n",
    "        self.conv2 = nn.Conv2d(32, 64, 3, 1)\n",
    "        self.dropout1 = nn.Dropout2d(0.25)\n",
    "        self.dropout2 = nn.Dropout2d(0.5)\n",
    "        self.fc1 = nn.Linear(9216, 128)\n",
    "        self.fc2 = nn.Linear(128, 10)\n",
    "\n",
    "    def forward(self, x):\n",
    "        x = self.conv1(x)\n",
    "        x = F.relu(x)\n",
    "        x = self.conv2(x)\n",
    "        x = F.relu(x)\n",
    "        x = F.max_pool2d(x, 2)\n",
    "        x = self.dropout1(x)\n",
    "        x = torch.flatten(x, 1)\n",
    "        x = self.fc1(x)\n",
    "        x = F.relu(x)\n",
    "        x = self.dropout2(x)\n",
    "        x = self.fc2(x)\n",
    "        output = F.log_softmax(x, dim=1)\n",
    "        return output"
   ]
  },
  {
   "cell_type": "code",
   "execution_count": 14,
   "metadata": {},
   "outputs": [],
   "source": [
    "# Step 3: Training the model\n",
    "def train_model(trainloader):\n",
    "    model = CNN()\n",
    "    criterion = nn.CrossEntropyLoss()\n",
    "    optimizer = optim.Adam(model.parameters(), lr=0.001)\n",
    "\n",
    "    num_epochs = 5\n",
    "    losses = []\n",
    "    accuracies = []\n",
    "    for epoch in range(num_epochs):\n",
    "        running_loss = 0.0\n",
    "        correct = 0\n",
    "        total = 0\n",
    "        for i, data in enumerate(trainloader, 0):\n",
    "            inputs, labels = data\n",
    "            optimizer.zero_grad()\n",
    "            outputs = model(inputs)\n",
    "            loss = criterion(outputs, labels)\n",
    "            loss.backward()\n",
    "            optimizer.step()\n",
    "            running_loss += loss.item()\n",
    "            _, predicted = torch.max(outputs.data, 1)\n",
    "            total += labels.size(0)\n",
    "            correct += (predicted == labels).sum().item()\n",
    "            if i % 100 == 99:\n",
    "                print('[%d, %5d] loss: %.3f' % (epoch + 1, i + 1, running_loss / 100))\n",
    "                losses.append(running_loss / 100)\n",
    "                accuracies.append(100 * correct / total)\n",
    "                running_loss = 0.0\n",
    "                correct = 0\n",
    "                total = 0\n",
    "    print('Finished Training')\n",
    "    return model, losses, accuracies"
   ]
  },
  {
   "cell_type": "code",
   "execution_count": 15,
   "metadata": {},
   "outputs": [],
   "source": [
    "# Step 4: Plotting accuracy and loss graphs\n",
    "def plot_graphs(losses, accuracies):\n",
    "    plt.figure(figsize=(10, 5))\n",
    "    plt.subplot(1, 2, 1)\n",
    "    plt.plot(losses)\n",
    "    plt.xlabel('Epoch')\n",
    "    plt.ylabel('Loss')\n",
    "    plt.title('Training Loss')\n",
    "\n",
    "    plt.subplot(1, 2, 2)\n",
    "    plt.plot(accuracies)\n",
    "    plt.xlabel('Epoch')\n",
    "    plt.ylabel('Accuracy (%)')\n",
    "    plt.title('Training Accuracy')\n",
    "    plt.show()"
   ]
  },
  {
   "cell_type": "code",
   "execution_count": 16,
   "metadata": {},
   "outputs": [],
   "source": [
    "# Step 5: Generating confusion matrix\n",
    "def generate_confusion_matrix(model, testloader):\n",
    "    all_labels = []\n",
    "    all_preds = []\n",
    "    with torch.no_grad():\n",
    "        for data in testloader:\n",
    "            images, labels = data\n",
    "            outputs = model(images)\n",
    "            _, predicted = torch.max(outputs, 1)\n",
    "            all_labels.extend(labels.numpy())\n",
    "            all_preds.extend(predicted.numpy())\n",
    "\n",
    "    cm = confusion_matrix(all_labels, all_preds)\n",
    "    plt.figure(figsize=(10, 8))\n",
    "    sns.heatmap(cm, annot=True, fmt=\"d\")\n",
    "    plt.xlabel('Predicted')\n",
    "    plt.ylabel('True')\n",
    "    plt.title('Confusion Matrix')\n",
    "    plt.show()"
   ]
  },
  {
   "cell_type": "code",
   "execution_count": 17,
   "metadata": {},
   "outputs": [],
   "source": [
    "\n",
    "# Step 6: Saving the model\n",
    "def save_model(model, path):\n",
    "    torch.save(model.state_dict(), path)"
   ]
  },
  {
   "cell_type": "code",
   "execution_count": 18,
   "metadata": {},
   "outputs": [],
   "source": [
    "# Step 7: GUI for handwritten digit recognition\n",
    "class DigitRecognizerApp:\n",
    "    def __init__(self, model_path):\n",
    "        self.model = CNN()\n",
    "        self.model.load_state_dict(torch.load(model_path))\n",
    "        self.model.eval()\n",
    "\n",
    "    def preprocess_image(self, image):\n",
    "        transform = transforms.Compose([\n",
    "            transforms.ToTensor(),\n",
    "            transforms.Normalize((0.5,), (0.5,))\n",
    "        ])\n",
    "        image = transform(image)\n",
    "        return image\n",
    "\n",
    "    def predict_digit(self, image):\n",
    "        image = self.preprocess_image(image)\n",
    "        image = image.unsqueeze(0)\n",
    "        with torch.no_grad():\n",
    "            output = self.model(image)\n",
    "            _, predicted = torch.max(output, 1)\n",
    "        return predicted.item()"
   ]
  },
  {
   "cell_type": "code",
   "execution_count": 19,
   "metadata": {},
   "outputs": [
    {
     "name": "stdout",
     "output_type": "stream",
     "text": [
      "[1,   100] loss: 0.725\n",
      "[1,   200] loss: 0.283\n",
      "[1,   300] loss: 0.221\n",
      "[1,   400] loss: 0.186\n",
      "[1,   500] loss: 0.155\n",
      "[1,   600] loss: 0.142\n",
      "[1,   700] loss: 0.129\n",
      "[1,   800] loss: 0.128\n",
      "[1,   900] loss: 0.116\n",
      "[2,   100] loss: 0.106\n",
      "[2,   200] loss: 0.099\n",
      "[2,   300] loss: 0.101\n",
      "[2,   400] loss: 0.096\n",
      "[2,   500] loss: 0.098\n",
      "[2,   600] loss: 0.091\n",
      "[2,   700] loss: 0.093\n",
      "[2,   800] loss: 0.098\n",
      "[2,   900] loss: 0.078\n",
      "[3,   100] loss: 0.071\n",
      "[3,   200] loss: 0.074\n",
      "[3,   300] loss: 0.075\n",
      "[3,   400] loss: 0.094\n",
      "[3,   500] loss: 0.071\n",
      "[3,   600] loss: 0.072\n",
      "[3,   700] loss: 0.073\n",
      "[3,   800] loss: 0.073\n",
      "[3,   900] loss: 0.066\n",
      "[4,   100] loss: 0.062\n",
      "[4,   200] loss: 0.064\n",
      "[4,   300] loss: 0.069\n",
      "[4,   400] loss: 0.054\n",
      "[4,   500] loss: 0.062\n",
      "[4,   600] loss: 0.059\n",
      "[4,   700] loss: 0.062\n",
      "[4,   800] loss: 0.059\n",
      "[4,   900] loss: 0.058\n",
      "[5,   100] loss: 0.048\n",
      "[5,   200] loss: 0.058\n",
      "[5,   300] loss: 0.057\n",
      "[5,   400] loss: 0.060\n",
      "[5,   500] loss: 0.066\n",
      "[5,   600] loss: 0.049\n",
      "[5,   700] loss: 0.056\n",
      "[5,   800] loss: 0.043\n",
      "[5,   900] loss: 0.056\n",
      "Finished Training\n"
     ]
    },
    {
     "data": {
      "image/png": "[encoded data removed]",
      "text/plain": [
       "<Figure size 1000x500 with 2 Axes>"
      ]
     },
     "metadata": {},
     "output_type": "display_data"
    },
    {
     "data": {
      "image/png": "[encoded data removed]",
      "text/plain": [
       "<Figure size 1000x800 with 2 Axes>"
      ]
     },
     "metadata": {},
     "output_type": "display_data"
    }
   ],
   "source": [
    "# Main function\n",
    "if __name__ == \"__main__\":\n",
    "    # Step 1: Loading the dataset\n",
    "    trainloader, testloader = load_data()\n",
    "    \n",
    "    # Step 2: Training the model\n",
    "    model, losses, accuracies = train_model(trainloader)\n",
    "    \n",
    "    # Step 3: Plotting accuracy and loss graphs\n",
    "    plot_graphs(losses, accuracies)\n",
    "    \n",
    "    # Step 4: Generating confusion matrix\n",
    "    generate_confusion_matrix(model, testloader)\n",
    "    \n",
    "    # Step 5: Saving the model\n",
    "    save_model(model, \"convNet_model.pth\")"
   ]
  },
  {
   "cell_type": "code",
   "execution_count": 32,
   "metadata": {},
   "outputs": [
    {
     "name": "stdout",
     "output_type": "stream",
     "text": [
      "Accuracy on Training: 98.62%\n",
      "Accuracy on Testing: 98.03%\n"
     ]
    }
   ],
   "source": [
    "def print_accuracy(model, dataloader, dataset_name):\n",
    "    correct = 0\n",
    "    total = 0\n",
    "    with torch.no_grad():\n",
    "        for data in dataloader:\n",
    "            inputs, labels = data\n",
    "            outputs = model(inputs)\n",
    "            _, predicted = torch.max(outputs.data, 1)\n",
    "            total += labels.size(0)\n",
    "            correct += (predicted == labels).sum().item()\n",
    "    accuracy = 100 * correct / total\n",
    "    print(f'Accuracy on {dataset_name}: {accuracy:.2f}%')\n",
    "\n",
    "# Assuming your model and dataloaders are already defined\n",
    "# For example:\n",
    "# model = CNN()\n",
    "# model.load_state_dict(torch.load(\"convNet_model.pth\"))\n",
    "# trainloader, testloader = split_data(trainset, testset)\n",
    "\n",
    "print_accuracy(model, trainloader, \"Training\")\n",
    "print_accuracy(model, testloader, \"Testing\")\n"
   ]
  },
  {
   "cell_type": "code",
   "execution_count": null,
   "metadata": {},
   "outputs": [],
   "source": []
  }
 ],
 "metadata": {
  "accelerator": "GPU",
  "colab": {
   "collapsed_sections": [],
   "name": "digitsMNIST.ipynb",
   "provenance": [],
   "toc_visible": true
  },
  "kernelspec": {
   "display_name": "Python 3 (ipykernel)",
   "language": "python",
   "name": "python3"
  },
  "language_info": {
   "codemirror_mode": {
    "name": "ipython",
    "version": 3
   },
   "file_extension": ".py",
   "mimetype": "text/x-python",
   "name": "python",
   "nbconvert_exporter": "python",
   "pygments_lexer": "ipython3",
   "version": "3.10.9"
  },
  "widgets": {
   "application/vnd.jupyter.widget-state+json": {
    "084e453a839341b29e7f4ac1b342412c": {
     "model_module": "@jupyter-widgets/controls",
     "model_name": "HBoxModel",
     "state": {
      "_dom_classes": [],
      "_model_module": "@jupyter-widgets/controls",
      "_model_module_version": "1.5.0",
      "_model_name": "HBoxModel",
      "_view_count": null,
      "_view_module": "@jupyter-widgets/controls",
      "_view_module_version": "1.5.0",
      "_view_name": "HBoxView",
      "box_style": "",
      "children": [
       "IPY_MODEL_beaf1a025cee455fb1fbc252bd16b0ca",
       "IPY_MODEL_d624fbfd3a81454c82c2b8f830666f0b"
      ],
      "layout": "IPY_MODEL_db17936e8abc4570992dd33fe049ee8f"
     }
    },
    "0ab84dc2513943ccab58d09f4ceb9463": {
     "model_module": "@jupyter-widgets/controls",
     "model_name": "HBoxModel",
     "state": {
      "_dom_classes": [],
      "_model_module": "@jupyter-widgets/controls",
      "_model_module_version": "1.5.0",
      "_model_name": "HBoxModel",
      "_view_count": null,
      "_view_module": "@jupyter-widgets/controls",
      "_view_module_version": "1.5.0",
      "_view_name": "HBoxView",
      "box_style": "",
      "children": [
       "IPY_MODEL_0cb140d3944443faa04047d580e5182a",
       "IPY_MODEL_cc1e83f2af594ed1b6849439082752de"
      ],
      "layout": "IPY_MODEL_20df32632996421e83f8f6e7673149fd"
     }
    },
    "0cb140d3944443faa04047d580e5182a": {
     "model_module": "@jupyter-widgets/controls",
     "model_name": "FloatProgressModel",
     "state": {
      "_dom_classes": [],
      "_model_module": "@jupyter-widgets/controls",
      "_model_module_version": "1.5.0",
      "_model_name": "FloatProgressModel",
      "_view_count": null,
      "_view_module": "@jupyter-widgets/controls",
      "_view_module_version": "1.5.0",
      "_view_name": "ProgressView",
      "bar_style": "success",
      "description": "",
      "description_tooltip": null,
      "layout": "IPY_MODEL_db93e628b5f14172b6de93a165d3eeee",
      "max": 1,
      "min": 0,
      "orientation": "horizontal",
      "style": "IPY_MODEL_e79e2166e3c24fb7afe8809df7f08c8a",
      "value": 1
     }
    },
    "10891cff8668436388335c8a94abd4bb": {
     "model_module": "@jupyter-widgets/base",
     "model_name": "LayoutModel",
     "state": {
      "_model_module": "@jupyter-widgets/base",
      "_model_module_version": "1.2.0",
      "_model_name": "LayoutModel",
      "_view_count": null,
      "_view_module": "@jupyter-widgets/base",
      "_view_module_version": "1.2.0",
      "_view_name": "LayoutView",
      "align_content": null,
      "align_items": null,
      "align_self": null,
      "border": null,
      "bottom": null,
      "display": null,
      "flex": null,
      "flex_flow": null,
      "grid_area": null,
      "grid_auto_columns": null,
      "grid_auto_flow": null,
      "grid_auto_rows": null,
      "grid_column": null,
      "grid_gap": null,
      "grid_row": null,
      "grid_template_areas": null,
      "grid_template_columns": null,
      "grid_template_rows": null,
      "height": null,
      "justify_content": null,
      "justify_items": null,
      "left": null,
      "margin": null,
      "max_height": null,
      "max_width": null,
      "min_height": null,
      "min_width": null,
      "object_fit": null,
      "object_position": null,
      "order": null,
      "overflow": null,
      "overflow_x": null,
      "overflow_y": null,
      "padding": null,
      "right": null,
      "top": null,
      "visibility": null,
      "width": null
     }
    },
    "20df32632996421e83f8f6e7673149fd": {
     "model_module": "@jupyter-widgets/base",
     "model_name": "LayoutModel",
     "state": {
      "_model_module": "@jupyter-widgets/base",
      "_model_module_version": "1.2.0",
      "_model_name": "LayoutModel",
      "_view_count": null,
      "_view_module": "@jupyter-widgets/base",
      "_view_module_version": "1.2.0",
      "_view_name": "LayoutView",
      "align_content": null,
      "align_items": null,
      "align_self": null,
      "border": null,
      "bottom": null,
      "display": null,
      "flex": null,
      "flex_flow": null,
      "grid_area": null,
      "grid_auto_columns": null,
      "grid_auto_flow": null,
      "grid_auto_rows": null,
      "grid_column": null,
      "grid_gap": null,
      "grid_row": null,
      "grid_template_areas": null,
      "grid_template_columns": null,
      "grid_template_rows": null,
      "height": null,
      "justify_content": null,
      "justify_items": null,
      "left": null,
      "margin": null,
      "max_height": null,
      "max_width": null,
      "min_height": null,
      "min_width": null,
      "object_fit": null,
      "object_position": null,
      "order": null,
      "overflow": null,
      "overflow_x": null,
      "overflow_y": null,
      "padding": null,
      "right": null,
      "top": null,
      "visibility": null,
      "width": null
     }
    },
    "24e0bdbf730749a89e1756c4c94b68db": {
     "model_module": "@jupyter-widgets/base",
     "model_name": "LayoutModel",
     "state": {
      "_model_module": "@jupyter-widgets/base",
      "_model_module_version": "1.2.0",
      "_model_name": "LayoutModel",
      "_view_count": null,
      "_view_module": "@jupyter-widgets/base",
      "_view_module_version": "1.2.0",
      "_view_name": "LayoutView",
      "align_content": null,
      "align_items": null,
      "align_self": null,
      "border": null,
      "bottom": null,
      "display": null,
      "flex": null,
      "flex_flow": null,
      "grid_area": null,
      "grid_auto_columns": null,
      "grid_auto_flow": null,
      "grid_auto_rows": null,
      "grid_column": null,
      "grid_gap": null,
      "grid_row": null,
      "grid_template_areas": null,
      "grid_template_columns": null,
      "grid_template_rows": null,
      "height": null,
      "justify_content": null,
      "justify_items": null,
      "left": null,
      "margin": null,
      "max_height": null,
      "max_width": null,
      "min_height": null,
      "min_width": null,
      "object_fit": null,
      "object_position": null,
      "order": null,
      "overflow": null,
      "overflow_x": null,
      "overflow_y": null,
      "padding": null,
      "right": null,
      "top": null,
      "visibility": null,
      "width": null
     }
    },
    "2601fa239149486fb8a39554312b1c0a": {
     "model_module": "@jupyter-widgets/base",
     "model_name": "LayoutModel",
     "state": {
      "_model_module": "@jupyter-widgets/base",
      "_model_module_version": "1.2.0",
      "_model_name": "LayoutModel",
      "_view_count": null,
      "_view_module": "@jupyter-widgets/base",
      "_view_module_version": "1.2.0",
      "_view_name": "LayoutView",
      "align_content": null,
      "align_items": null,
      "align_self": null,
      "border": null,
      "bottom": null,
      "display": null,
      "flex": null,
      "flex_flow": null,
      "grid_area": null,
      "grid_auto_columns": null,
      "grid_auto_flow": null,
      "grid_auto_rows": null,
      "grid_column": null,
      "grid_gap": null,
      "grid_row": null,
      "grid_template_areas": null,
      "grid_template_columns": null,
      "grid_template_rows": null,
      "height": null,
      "justify_content": null,
      "justify_items": null,
      "left": null,
      "margin": null,
      "max_height": null,
      "max_width": null,
      "min_height": null,
      "min_width": null,
      "object_fit": null,
      "object_position": null,
      "order": null,
      "overflow": null,
      "overflow_x": null,
      "overflow_y": null,
      "padding": null,
      "right": null,
      "top": null,
      "visibility": null,
      "width": null
     }
    },
    "2e5cf88e9f8e44fe9fe7811b6ed3db3e": {
     "model_module": "@jupyter-widgets/controls",
     "model_name": "DescriptionStyleModel",
     "state": {
      "_model_module": "@jupyter-widgets/controls",
      "_model_module_version": "1.5.0",
      "_model_name": "DescriptionStyleModel",
      "_view_count": null,
      "_view_module": "@jupyter-widgets/base",
      "_view_module_version": "1.2.0",
      "_view_name": "StyleView",
      "description_width": ""
     }
    },
    "30029164616943e29190578a18dee0cb": {
     "model_module": "@jupyter-widgets/base",
     "model_name": "LayoutModel",
     "state": {
      "_model_module": "@jupyter-widgets/base",
      "_model_module_version": "1.2.0",
      "_model_name": "LayoutModel",
      "_view_count": null,
      "_view_module": "@jupyter-widgets/base",
      "_view_module_version": "1.2.0",
      "_view_name": "LayoutView",
      "align_content": null,
      "align_items": null,
      "align_self": null,
      "border": null,
      "bottom": null,
      "display": null,
      "flex": null,
      "flex_flow": null,
      "grid_area": null,
      "grid_auto_columns": null,
      "grid_auto_flow": null,
      "grid_auto_rows": null,
      "grid_column": null,
      "grid_gap": null,
      "grid_row": null,
      "grid_template_areas": null,
      "grid_template_columns": null,
      "grid_template_rows": null,
      "height": null,
      "justify_content": null,
      "justify_items": null,
      "left": null,
      "margin": null,
      "max_height": null,
      "max_width": null,
      "min_height": null,
      "min_width": null,
      "object_fit": null,
      "object_position": null,
      "order": null,
      "overflow": null,
      "overflow_x": null,
      "overflow_y": null,
      "padding": null,
      "right": null,
      "top": null,
      "visibility": null,
      "width": null
     }
    },
    "5bb17c6dcd0e428ca787b758a0eff7c3": {
     "model_module": "@jupyter-widgets/base",
     "model_name": "LayoutModel",
     "state": {
      "_model_module": "@jupyter-widgets/base",
      "_model_module_version": "1.2.0",
      "_model_name": "LayoutModel",
      "_view_count": null,
      "_view_module": "@jupyter-widgets/base",
      "_view_module_version": "1.2.0",
      "_view_name": "LayoutView",
      "align_content": null,
      "align_items": null,
      "align_self": null,
      "border": null,
      "bottom": null,
      "display": null,
      "flex": null,
      "flex_flow": null,
      "grid_area": null,
      "grid_auto_columns": null,
      "grid_auto_flow": null,
      "grid_auto_rows": null,
      "grid_column": null,
      "grid_gap": null,
      "grid_row": null,
      "grid_template_areas": null,
      "grid_template_columns": null,
      "grid_template_rows": null,
      "height": null,
      "justify_content": null,
      "justify_items": null,
      "left": null,
      "margin": null,
      "max_height": null,
      "max_width": null,
      "min_height": null,
      "min_width": null,
      "object_fit": null,
      "object_position": null,
      "order": null,
      "overflow": null,
      "overflow_x": null,
      "overflow_y": null,
      "padding": null,
      "right": null,
      "top": null,
      "visibility": null,
      "width": null
     }
    },
    "642b1057167e467e93894de6c023cdc4": {
     "model_module": "@jupyter-widgets/base",
     "model_name": "LayoutModel",
     "state": {
      "_model_module": "@jupyter-widgets/base",
      "_model_module_version": "1.2.0",
      "_model_name": "LayoutModel",
      "_view_count": null,
      "_view_module": "@jupyter-widgets/base",
      "_view_module_version": "1.2.0",
      "_view_name": "LayoutView",
      "align_content": null,
      "align_items": null,
      "align_self": null,
      "border": null,
      "bottom": null,
      "display": null,
      "flex": null,
      "flex_flow": null,
      "grid_area": null,
      "grid_auto_columns": null,
      "grid_auto_flow": null,
      "grid_auto_rows": null,
      "grid_column": null,
      "grid_gap": null,
      "grid_row": null,
      "grid_template_areas": null,
      "grid_template_columns": null,
      "grid_template_rows": null,
      "height": null,
      "justify_content": null,
      "justify_items": null,
      "left": null,
      "margin": null,
      "max_height": null,
      "max_width": null,
      "min_height": null,
      "min_width": null,
      "object_fit": null,
      "object_position": null,
      "order": null,
      "overflow": null,
      "overflow_x": null,
      "overflow_y": null,
      "padding": null,
      "right": null,
      "top": null,
      "visibility": null,
      "width": null
     }
    },
    "72d70d39b250480bbad25c5f852b0473": {
     "model_module": "@jupyter-widgets/base",
     "model_name": "LayoutModel",
     "state": {
      "_model_module": "@jupyter-widgets/base",
      "_model_module_version": "1.2.0",
      "_model_name": "LayoutModel",
      "_view_count": null,
      "_view_module": "@jupyter-widgets/base",
      "_view_module_version": "1.2.0",
      "_view_name": "LayoutView",
      "align_content": null,
      "align_items": null,
      "align_self": null,
      "border": null,
      "bottom": null,
      "display": null,
      "flex": null,
      "flex_flow": null,
      "grid_area": null,
      "grid_auto_columns": null,
      "grid_auto_flow": null,
      "grid_auto_rows": null,
      "grid_column": null,
      "grid_gap": null,
      "grid_row": null,
      "grid_template_areas": null,
      "grid_template_columns": null,
      "grid_template_rows": null,
      "height": null,
      "justify_content": null,
      "justify_items": null,
      "left": null,
      "margin": null,
      "max_height": null,
      "max_width": null,
      "min_height": null,
      "min_width": null,
      "object_fit": null,
      "object_position": null,
      "order": null,
      "overflow": null,
      "overflow_x": null,
      "overflow_y": null,
      "padding": null,
      "right": null,
      "top": null,
      "visibility": null,
      "width": null
     }
    },
    "776eae11aeeb45ae97ed29bcbbd411e4": {
     "model_module": "@jupyter-widgets/controls",
     "model_name": "DescriptionStyleModel",
     "state": {
      "_model_module": "@jupyter-widgets/controls",
      "_model_module_version": "1.5.0",
      "_model_name": "DescriptionStyleModel",
      "_view_count": null,
      "_view_module": "@jupyter-widgets/base",
      "_view_module_version": "1.2.0",
      "_view_name": "StyleView",
      "description_width": ""
     }
    },
    "847bc4c94f9c4fdb81d42cfb6d2c30e2": {
     "model_module": "@jupyter-widgets/controls",
     "model_name": "HTMLModel",
     "state": {
      "_dom_classes": [],
      "_model_module": "@jupyter-widgets/controls",
      "_model_module_version": "1.5.0",
      "_model_name": "HTMLModel",
      "_view_count": null,
      "_view_module": "@jupyter-widgets/controls",
      "_view_module_version": "1.5.0",
      "_view_name": "HTMLView",
      "description": "",
      "description_tooltip": null,
      "layout": "IPY_MODEL_642b1057167e467e93894de6c023cdc4",
      "placeholder": "​",
      "style": "IPY_MODEL_2e5cf88e9f8e44fe9fe7811b6ed3db3e",
      "value": " 32768/? [00:00&lt;00:00, 40205.30it/s]"
     }
    },
    "9075f30e24a94aca9fca83d1e79aae3d": {
     "model_module": "@jupyter-widgets/base",
     "model_name": "LayoutModel",
     "state": {
      "_model_module": "@jupyter-widgets/base",
      "_model_module_version": "1.2.0",
      "_model_name": "LayoutModel",
      "_view_count": null,
      "_view_module": "@jupyter-widgets/base",
      "_view_module_version": "1.2.0",
      "_view_name": "LayoutView",
      "align_content": null,
      "align_items": null,
      "align_self": null,
      "border": null,
      "bottom": null,
      "display": null,
      "flex": null,
      "flex_flow": null,
      "grid_area": null,
      "grid_auto_columns": null,
      "grid_auto_flow": null,
      "grid_auto_rows": null,
      "grid_column": null,
      "grid_gap": null,
      "grid_row": null,
      "grid_template_areas": null,
      "grid_template_columns": null,
      "grid_template_rows": null,
      "height": null,
      "justify_content": null,
      "justify_items": null,
      "left": null,
      "margin": null,
      "max_height": null,
      "max_width": null,
      "min_height": null,
      "min_width": null,
      "object_fit": null,
      "object_position": null,
      "order": null,
      "overflow": null,
      "overflow_x": null,
      "overflow_y": null,
      "padding": null,
      "right": null,
      "top": null,
      "visibility": null,
      "width": null
     }
    },
    "9577e4eb6ab6466f9b76d3bdac9605fc": {
     "model_module": "@jupyter-widgets/controls",
     "model_name": "DescriptionStyleModel",
     "state": {
      "_model_module": "@jupyter-widgets/controls",
      "_model_module_version": "1.5.0",
      "_model_name": "DescriptionStyleModel",
      "_view_count": null,
      "_view_module": "@jupyter-widgets/base",
      "_view_module_version": "1.2.0",
      "_view_name": "StyleView",
      "description_width": ""
     }
    },
    "aa82d23b733f4d6887bf77d625a8c9e2": {
     "model_module": "@jupyter-widgets/controls",
     "model_name": "HBoxModel",
     "state": {
      "_dom_classes": [],
      "_model_module": "@jupyter-widgets/controls",
      "_model_module_version": "1.5.0",
      "_model_name": "HBoxModel",
      "_view_count": null,
      "_view_module": "@jupyter-widgets/controls",
      "_view_module_version": "1.5.0",
      "_view_name": "HBoxView",
      "box_style": "",
      "children": [
       "IPY_MODEL_ce1aa022e43b4a72842f98ba739c6e45",
       "IPY_MODEL_847bc4c94f9c4fdb81d42cfb6d2c30e2"
      ],
      "layout": "IPY_MODEL_10891cff8668436388335c8a94abd4bb"
     }
    },
    "ab7309e2797343f29d779efe01046914": {
     "model_module": "@jupyter-widgets/controls",
     "model_name": "HBoxModel",
     "state": {
      "_dom_classes": [],
      "_model_module": "@jupyter-widgets/controls",
      "_model_module_version": "1.5.0",
      "_model_name": "HBoxModel",
      "_view_count": null,
      "_view_module": "@jupyter-widgets/controls",
      "_view_module_version": "1.5.0",
      "_view_name": "HBoxView",
      "box_style": "",
      "children": [
       "IPY_MODEL_e50b4dd2b7b1493d8b40716651939bc2",
       "IPY_MODEL_d9e10a1a98db4338931c72967db0d806"
      ],
      "layout": "IPY_MODEL_c52ddc49794247a4ba16953ae296a172"
     }
    },
    "ad9c72eb00b649c9897bd22314b062a6": {
     "model_module": "@jupyter-widgets/controls",
     "model_name": "ProgressStyleModel",
     "state": {
      "_model_module": "@jupyter-widgets/controls",
      "_model_module_version": "1.5.0",
      "_model_name": "ProgressStyleModel",
      "_view_count": null,
      "_view_module": "@jupyter-widgets/base",
      "_view_module_version": "1.2.0",
      "_view_name": "StyleView",
      "bar_color": null,
      "description_width": "initial"
     }
    },
    "b2ad8531d80d4d049c5dc6fee7420dc0": {
     "model_module": "@jupyter-widgets/controls",
     "model_name": "ProgressStyleModel",
     "state": {
      "_model_module": "@jupyter-widgets/controls",
      "_model_module_version": "1.5.0",
      "_model_name": "ProgressStyleModel",
      "_view_count": null,
      "_view_module": "@jupyter-widgets/base",
      "_view_module_version": "1.2.0",
      "_view_name": "StyleView",
      "bar_color": null,
      "description_width": "initial"
     }
    },
    "beaf1a025cee455fb1fbc252bd16b0ca": {
     "model_module": "@jupyter-widgets/controls",
     "model_name": "FloatProgressModel",
     "state": {
      "_dom_classes": [],
      "_model_module": "@jupyter-widgets/controls",
      "_model_module_version": "1.5.0",
      "_model_name": "FloatProgressModel",
      "_view_count": null,
      "_view_module": "@jupyter-widgets/controls",
      "_view_module_version": "1.5.0",
      "_view_name": "ProgressView",
      "bar_style": "success",
      "description": "",
      "description_tooltip": null,
      "layout": "IPY_MODEL_24e0bdbf730749a89e1756c4c94b68db",
      "max": 1,
      "min": 0,
      "orientation": "horizontal",
      "style": "IPY_MODEL_fd3d33b383e3435a8eca1e97bb7bd2dc",
      "value": 1
     }
    },
    "bf99d1e1beb841c490657e35d89a1513": {
     "model_module": "@jupyter-widgets/controls",
     "model_name": "DescriptionStyleModel",
     "state": {
      "_model_module": "@jupyter-widgets/controls",
      "_model_module_version": "1.5.0",
      "_model_name": "DescriptionStyleModel",
      "_view_count": null,
      "_view_module": "@jupyter-widgets/base",
      "_view_module_version": "1.2.0",
      "_view_name": "StyleView",
      "description_width": ""
     }
    },
    "c52ddc49794247a4ba16953ae296a172": {
     "model_module": "@jupyter-widgets/base",
     "model_name": "LayoutModel",
     "state": {
      "_model_module": "@jupyter-widgets/base",
      "_model_module_version": "1.2.0",
      "_model_name": "LayoutModel",
      "_view_count": null,
      "_view_module": "@jupyter-widgets/base",
      "_view_module_version": "1.2.0",
      "_view_name": "LayoutView",
      "align_content": null,
      "align_items": null,
      "align_self": null,
      "border": null,
      "bottom": null,
      "display": null,
      "flex": null,
      "flex_flow": null,
      "grid_area": null,
      "grid_auto_columns": null,
      "grid_auto_flow": null,
      "grid_auto_rows": null,
      "grid_column": null,
      "grid_gap": null,
      "grid_row": null,
      "grid_template_areas": null,
      "grid_template_columns": null,
      "grid_template_rows": null,
      "height": null,
      "justify_content": null,
      "justify_items": null,
      "left": null,
      "margin": null,
      "max_height": null,
      "max_width": null,
      "min_height": null,
      "min_width": null,
      "object_fit": null,
      "object_position": null,
      "order": null,
      "overflow": null,
      "overflow_x": null,
      "overflow_y": null,
      "padding": null,
      "right": null,
      "top": null,
      "visibility": null,
      "width": null
     }
    },
    "cc1e83f2af594ed1b6849439082752de": {
     "model_module": "@jupyter-widgets/controls",
     "model_name": "HTMLModel",
     "state": {
      "_dom_classes": [],
      "_model_module": "@jupyter-widgets/controls",
      "_model_module_version": "1.5.0",
      "_model_name": "HTMLModel",
      "_view_count": null,
      "_view_module": "@jupyter-widgets/controls",
      "_view_module_version": "1.5.0",
      "_view_name": "HTMLView",
      "description": "",
      "description_tooltip": null,
      "layout": "IPY_MODEL_9075f30e24a94aca9fca83d1e79aae3d",
      "placeholder": "​",
      "style": "IPY_MODEL_776eae11aeeb45ae97ed29bcbbd411e4",
      "value": " 1654784/? [00:02&lt;00:00, 566330.16it/s]"
     }
    },
    "ce1aa022e43b4a72842f98ba739c6e45": {
     "model_module": "@jupyter-widgets/controls",
     "model_name": "FloatProgressModel",
     "state": {
      "_dom_classes": [],
      "_model_module": "@jupyter-widgets/controls",
      "_model_module_version": "1.5.0",
      "_model_name": "FloatProgressModel",
      "_view_count": null,
      "_view_module": "@jupyter-widgets/controls",
      "_view_module_version": "1.5.0",
      "_view_name": "ProgressView",
      "bar_style": "success",
      "description": "",
      "description_tooltip": null,
      "layout": "IPY_MODEL_2601fa239149486fb8a39554312b1c0a",
      "max": 1,
      "min": 0,
      "orientation": "horizontal",
      "style": "IPY_MODEL_ad9c72eb00b649c9897bd22314b062a6",
      "value": 1
     }
    },
    "d624fbfd3a81454c82c2b8f830666f0b": {
     "model_module": "@jupyter-widgets/controls",
     "model_name": "HTMLModel",
     "state": {
      "_dom_classes": [],
      "_model_module": "@jupyter-widgets/controls",
      "_model_module_version": "1.5.0",
      "_model_name": "HTMLModel",
      "_view_count": null,
      "_view_module": "@jupyter-widgets/controls",
      "_view_module_version": "1.5.0",
      "_view_name": "HTMLView",
      "description": "",
      "description_tooltip": null,
      "layout": "IPY_MODEL_72d70d39b250480bbad25c5f852b0473",
      "placeholder": "​",
      "style": "IPY_MODEL_bf99d1e1beb841c490657e35d89a1513",
      "value": " 8192/? [00:00&lt;00:00, 8675.49it/s]"
     }
    },
    "d9e10a1a98db4338931c72967db0d806": {
     "model_module": "@jupyter-widgets/controls",
     "model_name": "HTMLModel",
     "state": {
      "_dom_classes": [],
      "_model_module": "@jupyter-widgets/controls",
      "_model_module_version": "1.5.0",
      "_model_name": "HTMLModel",
      "_view_count": null,
      "_view_module": "@jupyter-widgets/controls",
      "_view_module_version": "1.5.0",
      "_view_name": "HTMLView",
      "description": "",
      "description_tooltip": null,
      "layout": "IPY_MODEL_5bb17c6dcd0e428ca787b758a0eff7c3",
      "placeholder": "​",
      "style": "IPY_MODEL_9577e4eb6ab6466f9b76d3bdac9605fc",
      "value": " 9920512/? [00:20&lt;00:00, 1281129.61it/s]"
     }
    },
    "db17936e8abc4570992dd33fe049ee8f": {
     "model_module": "@jupyter-widgets/base",
     "model_name": "LayoutModel",
     "state": {
      "_model_module": "@jupyter-widgets/base",
      "_model_module_version": "1.2.0",
      "_model_name": "LayoutModel",
      "_view_count": null,
      "_view_module": "@jupyter-widgets/base",
      "_view_module_version": "1.2.0",
      "_view_name": "LayoutView",
      "align_content": null,
      "align_items": null,
      "align_self": null,
      "border": null,
      "bottom": null,
      "display": null,
      "flex": null,
      "flex_flow": null,
      "grid_area": null,
      "grid_auto_columns": null,
      "grid_auto_flow": null,
      "grid_auto_rows": null,
      "grid_column": null,
      "grid_gap": null,
      "grid_row": null,
      "grid_template_areas": null,
      "grid_template_columns": null,
      "grid_template_rows": null,
      "height": null,
      "justify_content": null,
      "justify_items": null,
      "left": null,
      "margin": null,
      "max_height": null,
      "max_width": null,
      "min_height": null,
      "min_width": null,
      "object_fit": null,
      "object_position": null,
      "order": null,
      "overflow": null,
      "overflow_x": null,
      "overflow_y": null,
      "padding": null,
      "right": null,
      "top": null,
      "visibility": null,
      "width": null
     }
    },
    "db93e628b5f14172b6de93a165d3eeee": {
     "model_module": "@jupyter-widgets/base",
     "model_name": "LayoutModel",
     "state": {
      "_model_module": "@jupyter-widgets/base",
      "_model_module_version": "1.2.0",
      "_model_name": "LayoutModel",
      "_view_count": null,
      "_view_module": "@jupyter-widgets/base",
      "_view_module_version": "1.2.0",
      "_view_name": "LayoutView",
      "align_content": null,
      "align_items": null,
      "align_self": null,
      "border": null,
      "bottom": null,
      "display": null,
      "flex": null,
      "flex_flow": null,
      "grid_area": null,
      "grid_auto_columns": null,
      "grid_auto_flow": null,
      "grid_auto_rows": null,
      "grid_column": null,
      "grid_gap": null,
      "grid_row": null,
      "grid_template_areas": null,
      "grid_template_columns": null,
      "grid_template_rows": null,
      "height": null,
      "justify_content": null,
      "justify_items": null,
      "left": null,
      "margin": null,
      "max_height": null,
      "max_width": null,
      "min_height": null,
      "min_width": null,
      "object_fit": null,
      "object_position": null,
      "order": null,
      "overflow": null,
      "overflow_x": null,
      "overflow_y": null,
      "padding": null,
      "right": null,
      "top": null,
      "visibility": null,
      "width": null
     }
    },
    "e50b4dd2b7b1493d8b40716651939bc2": {
     "model_module": "@jupyter-widgets/controls",
     "model_name": "FloatProgressModel",
     "state": {
      "_dom_classes": [],
      "_model_module": "@jupyter-widgets/controls",
      "_model_module_version": "1.5.0",
      "_model_name": "FloatProgressModel",
      "_view_count": null,
      "_view_module": "@jupyter-widgets/controls",
      "_view_module_version": "1.5.0",
      "_view_name": "ProgressView",
      "bar_style": "info",
      "description": "",
      "description_tooltip": null,
      "layout": "IPY_MODEL_30029164616943e29190578a18dee0cb",
      "max": 1,
      "min": 0,
      "orientation": "horizontal",
      "style": "IPY_MODEL_b2ad8531d80d4d049c5dc6fee7420dc0",
      "value": 1
     }
    },
    "e79e2166e3c24fb7afe8809df7f08c8a": {
     "model_module": "@jupyter-widgets/controls",
     "model_name": "ProgressStyleModel",
     "state": {
      "_model_module": "@jupyter-widgets/controls",
      "_model_module_version": "1.5.0",
      "_model_name": "ProgressStyleModel",
      "_view_count": null,
      "_view_module": "@jupyter-widgets/base",
      "_view_module_version": "1.2.0",
      "_view_name": "StyleView",
      "bar_color": null,
      "description_width": "initial"
     }
    },
    "fd3d33b383e3435a8eca1e97bb7bd2dc": {
     "model_module": "@jupyter-widgets/controls",
     "model_name": "ProgressStyleModel",
     "state": {
      "_model_module": "@jupyter-widgets/controls",
      "_model_module_version": "1.5.0",
      "_model_name": "ProgressStyleModel",
      "_view_count": null,
      "_view_module": "@jupyter-widgets/base",
      "_view_module_version": "1.2.0",
      "_view_name": "StyleView",
      "bar_color": null,
      "description_width": "initial"
     }
    }
   }
  }
 },
 "nbformat": 4,
 "nbformat_minor": 1
}
